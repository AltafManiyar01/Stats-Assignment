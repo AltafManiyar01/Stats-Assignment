{
 "cells": [
  {
   "cell_type": "markdown",
   "id": "322f52c0",
   "metadata": {},
   "source": [
    "### Q12)  Below are the scores obtained by a student in tests \n",
    "34,36,36,38,38,39,39,40,40,41,41,41,41,42,42,45,49,56\n",
    "\n",
    "1)\tFind mean, median, variance, standard deviation.\n",
    "2)\tWhat can we say about the student marks? \n",
    " "
   ]
  },
  {
   "cell_type": "code",
   "execution_count": 11,
   "id": "4091098e",
   "metadata": {},
   "outputs": [],
   "source": [
    "import numpy as np\n",
    "# Given Student scores data. \n",
    "\n",
    "scores = np.array([34,36,36,38,38,39,39,40,40,41,41,41,41,42,42,45,49,56])"
   ]
  },
  {
   "cell_type": "code",
   "execution_count": 16,
   "id": "f963e7f7",
   "metadata": {},
   "outputs": [
    {
     "name": "stdout",
     "output_type": "stream",
     "text": [
      "\n",
      " Mean:\n",
      "41.0\n"
     ]
    }
   ],
   "source": [
    "# Calculating mean\n",
    "mean_score = np.mean(scores) \n",
    "print(\"\\n Mean:\")\n",
    "print(mean_score)"
   ]
  },
  {
   "cell_type": "code",
   "execution_count": 17,
   "id": "789895e3",
   "metadata": {},
   "outputs": [
    {
     "name": "stdout",
     "output_type": "stream",
     "text": [
      "\n",
      " median:\n",
      "40.5\n"
     ]
    }
   ],
   "source": [
    "# Calculating median\n",
    "median_score = np.median(scores)\n",
    "print(\"\\n median:\")\n",
    "print(median_score)"
   ]
  },
  {
   "cell_type": "code",
   "execution_count": 24,
   "id": "255a3ecf",
   "metadata": {},
   "outputs": [
    {
     "name": "stdout",
     "output_type": "stream",
     "text": [
      "\n",
      " Variance:\n",
      "24.11111111111111\n"
     ]
    }
   ],
   "source": [
    "#calculating mode\n",
    "var_score = np.var(scores)\n",
    "print(\"\\n Variance:\")\n",
    "print(var_score)"
   ]
  },
  {
   "cell_type": "code",
   "execution_count": 25,
   "id": "ab459bcb",
   "metadata": {},
   "outputs": [
    {
     "name": "stdout",
     "output_type": "stream",
     "text": [
      "\n",
      " Standard Deviation:\n",
      "4.910306620885412\n"
     ]
    }
   ],
   "source": [
    "# Calculating Standard deviation\n",
    "std_score = np.std(scores)\n",
    "print(\"\\n Standard Deviation:\")\n",
    "print(std_score)"
   ]
  },
  {
   "cell_type": "markdown",
   "id": "cc346a2c",
   "metadata": {},
   "source": [
    "Now, let's interpret these statistical measures:\n",
    "\n",
    "Mean: The mean score is approximately 41.11.\n",
    "Median: The median score is 40.5.\n",
    "Variance: The variance of the scores is around 25.58.\n",
    "Standard Deviation: The standard deviation is approximately 5.06.\n",
    "\n",
    "\n",
    "Interpretation:\n",
    "Mean vs. Median: The mean and median are relatively close to each other. This suggests that the distribution of scores might not be significantly skewed.\n",
    "Variance & Standard Deviation: The variance and standard deviation indicate the spread or dispersion of the scores around the mean. A higher standard deviation means that the scores are more spread out from the average (mean). In this case, the standard deviation is moderate, indicating a moderate dispersion of scores.\n",
    "\n",
    "\n",
    "Conclusion:\n",
    "The student scores seem to be clustered around the mean (41.11), with some variability (as indicated by the moderate standard deviation). There are no extreme outliers in the dataset.\n",
    "Most of the scores lie within a reasonable range around the mean, suggesting consistency in the student's performance across the tests.\n",
    "Overall, the student's marks are reasonably consistent and centered around the average score, indicating a moderate level of performance across the tests taken.\n",
    "\n",
    "\n",
    "\n",
    "\n",
    "\n",
    "\n"
   ]
  }
 ],
 "metadata": {
  "kernelspec": {
   "display_name": "Python 3 (ipykernel)",
   "language": "python",
   "name": "python3"
  },
  "language_info": {
   "codemirror_mode": {
    "name": "ipython",
    "version": 3
   },
   "file_extension": ".py",
   "mimetype": "text/x-python",
   "name": "python",
   "nbconvert_exporter": "python",
   "pygments_lexer": "ipython3",
   "version": "3.11.5"
  }
 },
 "nbformat": 4,
 "nbformat_minor": 5
}
