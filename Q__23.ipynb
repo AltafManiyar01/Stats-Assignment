{
 "cells": [
  {
   "cell_type": "code",
   "execution_count": 4,
   "id": "0763de70",
   "metadata": {},
   "outputs": [
    {
     "name": "stdout",
     "output_type": "stream",
     "text": [
      "t-score for 95.0% confidence interval with 25 sample size: 2.0639\n",
      "t-score for 96.0% confidence interval with 25 sample size: 2.1715\n",
      "t-score for 99.0% confidence interval with 25 sample size: 2.7969\n"
     ]
    }
   ],
   "source": [
    "from scipy.stats import t\n",
    "\n",
    "# Define the confidence levels\n",
    "confidence_interval = [0.95,0.96,0.99]\n",
    "\n",
    "#sample_size\n",
    "sample_size = 25\n",
    "\n",
    "# Degree of freedom\n",
    "degree_of_freedom = sample_size-1\n",
    "\n",
    "# Calculate t-score for each confidence interval\n",
    "for confidence in confidence_interval:\n",
    "    # Calcualate t-score using the ppf(percent point function)\n",
    "    \n",
    "    t_score = t.ppf((1+confidence)/2, degree_of_freedom)\n",
    "    print(f\"t-score for {confidence * 100}% confidence interval with {sample_size} sample size:{t_score: .4f}\")"
   ]
  }
 ],
 "metadata": {
  "kernelspec": {
   "display_name": "Python 3 (ipykernel)",
   "language": "python",
   "name": "python3"
  },
  "language_info": {
   "codemirror_mode": {
    "name": "ipython",
    "version": 3
   },
   "file_extension": ".py",
   "mimetype": "text/x-python",
   "name": "python",
   "nbconvert_exporter": "python",
   "pygments_lexer": "ipython3",
   "version": "3.11.5"
  }
 },
 "nbformat": 4,
 "nbformat_minor": 5
}
