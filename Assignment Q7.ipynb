{
 "cells": [
  {
   "cell_type": "markdown",
   "id": "6f02db13",
   "metadata": {},
   "source": [
    " #### Q7) Calculate Mean, Median, Mode, Variance, Standard Deviation, Range &     comment about the values / draw inferences, for the given dataset"
   ]
  },
  {
   "cell_type": "code",
   "execution_count": 29,
   "id": "fa2cf436",
   "metadata": {},
   "outputs": [],
   "source": [
    "# Import libraries\n",
    "\n",
    "import pandas as pd\n",
    "import numpy as np"
   ]
  },
  {
   "cell_type": "code",
   "execution_count": 30,
   "id": "8173fff9",
   "metadata": {},
   "outputs": [],
   "source": [
    "# Import data\n",
    "data = pd.read_csv(\"Q7.csv\")"
   ]
  },
  {
   "cell_type": "code",
   "execution_count": 31,
   "id": "ca6c4e4a",
   "metadata": {
    "scrolled": true
   },
   "outputs": [
    {
     "data": {
      "text/html": [
       "<div>\n",
       "<style scoped>\n",
       "    .dataframe tbody tr th:only-of-type {\n",
       "        vertical-align: middle;\n",
       "    }\n",
       "\n",
       "    .dataframe tbody tr th {\n",
       "        vertical-align: top;\n",
       "    }\n",
       "\n",
       "    .dataframe thead th {\n",
       "        text-align: right;\n",
       "    }\n",
       "</style>\n",
       "<table border=\"1\" class=\"dataframe\">\n",
       "  <thead>\n",
       "    <tr style=\"text-align: right;\">\n",
       "      <th></th>\n",
       "      <th>Unnamed: 0</th>\n",
       "      <th>Points</th>\n",
       "      <th>Score</th>\n",
       "      <th>Weigh</th>\n",
       "    </tr>\n",
       "  </thead>\n",
       "  <tbody>\n",
       "    <tr>\n",
       "      <th>0</th>\n",
       "      <td>Mazda RX4</td>\n",
       "      <td>3.90</td>\n",
       "      <td>2.620</td>\n",
       "      <td>16.46</td>\n",
       "    </tr>\n",
       "    <tr>\n",
       "      <th>1</th>\n",
       "      <td>Mazda RX4 Wag</td>\n",
       "      <td>3.90</td>\n",
       "      <td>2.875</td>\n",
       "      <td>17.02</td>\n",
       "    </tr>\n",
       "    <tr>\n",
       "      <th>2</th>\n",
       "      <td>Datsun 710</td>\n",
       "      <td>3.85</td>\n",
       "      <td>2.320</td>\n",
       "      <td>18.61</td>\n",
       "    </tr>\n",
       "    <tr>\n",
       "      <th>3</th>\n",
       "      <td>Hornet 4 Drive</td>\n",
       "      <td>3.08</td>\n",
       "      <td>3.215</td>\n",
       "      <td>19.44</td>\n",
       "    </tr>\n",
       "    <tr>\n",
       "      <th>4</th>\n",
       "      <td>Hornet Sportabout</td>\n",
       "      <td>3.15</td>\n",
       "      <td>3.440</td>\n",
       "      <td>17.02</td>\n",
       "    </tr>\n",
       "  </tbody>\n",
       "</table>\n",
       "</div>"
      ],
      "text/plain": [
       "          Unnamed: 0  Points  Score  Weigh\n",
       "0          Mazda RX4    3.90  2.620  16.46\n",
       "1      Mazda RX4 Wag    3.90  2.875  17.02\n",
       "2         Datsun 710    3.85  2.320  18.61\n",
       "3     Hornet 4 Drive    3.08  3.215  19.44\n",
       "4  Hornet Sportabout    3.15  3.440  17.02"
      ]
     },
     "execution_count": 31,
     "metadata": {},
     "output_type": "execute_result"
    }
   ],
   "source": [
    "data.head()"
   ]
  },
  {
   "cell_type": "code",
   "execution_count": 32,
   "id": "4cca824c",
   "metadata": {},
   "outputs": [
    {
     "name": "stdout",
     "output_type": "stream",
     "text": [
      "<class 'pandas.core.frame.DataFrame'>\n",
      "RangeIndex: 32 entries, 0 to 31\n",
      "Data columns (total 4 columns):\n",
      " #   Column      Non-Null Count  Dtype  \n",
      "---  ------      --------------  -----  \n",
      " 0   Unnamed: 0  32 non-null     object \n",
      " 1   Points      32 non-null     float64\n",
      " 2   Score       32 non-null     float64\n",
      " 3   Weigh       32 non-null     float64\n",
      "dtypes: float64(3), object(1)\n",
      "memory usage: 1.1+ KB\n"
     ]
    }
   ],
   "source": [
    "data.info()"
   ]
  },
  {
   "cell_type": "code",
   "execution_count": 33,
   "id": "a11638c3",
   "metadata": {},
   "outputs": [
    {
     "data": {
      "text/html": [
       "<div>\n",
       "<style scoped>\n",
       "    .dataframe tbody tr th:only-of-type {\n",
       "        vertical-align: middle;\n",
       "    }\n",
       "\n",
       "    .dataframe tbody tr th {\n",
       "        vertical-align: top;\n",
       "    }\n",
       "\n",
       "    .dataframe thead th {\n",
       "        text-align: right;\n",
       "    }\n",
       "</style>\n",
       "<table border=\"1\" class=\"dataframe\">\n",
       "  <thead>\n",
       "    <tr style=\"text-align: right;\">\n",
       "      <th></th>\n",
       "      <th>Points</th>\n",
       "      <th>Score</th>\n",
       "      <th>Weigh</th>\n",
       "    </tr>\n",
       "  </thead>\n",
       "  <tbody>\n",
       "    <tr>\n",
       "      <th>count</th>\n",
       "      <td>32.000000</td>\n",
       "      <td>32.000000</td>\n",
       "      <td>32.000000</td>\n",
       "    </tr>\n",
       "    <tr>\n",
       "      <th>mean</th>\n",
       "      <td>3.596563</td>\n",
       "      <td>3.217250</td>\n",
       "      <td>17.848750</td>\n",
       "    </tr>\n",
       "    <tr>\n",
       "      <th>std</th>\n",
       "      <td>0.534679</td>\n",
       "      <td>0.978457</td>\n",
       "      <td>1.786943</td>\n",
       "    </tr>\n",
       "    <tr>\n",
       "      <th>min</th>\n",
       "      <td>2.760000</td>\n",
       "      <td>1.513000</td>\n",
       "      <td>14.500000</td>\n",
       "    </tr>\n",
       "    <tr>\n",
       "      <th>25%</th>\n",
       "      <td>3.080000</td>\n",
       "      <td>2.581250</td>\n",
       "      <td>16.892500</td>\n",
       "    </tr>\n",
       "    <tr>\n",
       "      <th>50%</th>\n",
       "      <td>3.695000</td>\n",
       "      <td>3.325000</td>\n",
       "      <td>17.710000</td>\n",
       "    </tr>\n",
       "    <tr>\n",
       "      <th>75%</th>\n",
       "      <td>3.920000</td>\n",
       "      <td>3.610000</td>\n",
       "      <td>18.900000</td>\n",
       "    </tr>\n",
       "    <tr>\n",
       "      <th>max</th>\n",
       "      <td>4.930000</td>\n",
       "      <td>5.424000</td>\n",
       "      <td>22.900000</td>\n",
       "    </tr>\n",
       "  </tbody>\n",
       "</table>\n",
       "</div>"
      ],
      "text/plain": [
       "          Points      Score      Weigh\n",
       "count  32.000000  32.000000  32.000000\n",
       "mean    3.596563   3.217250  17.848750\n",
       "std     0.534679   0.978457   1.786943\n",
       "min     2.760000   1.513000  14.500000\n",
       "25%     3.080000   2.581250  16.892500\n",
       "50%     3.695000   3.325000  17.710000\n",
       "75%     3.920000   3.610000  18.900000\n",
       "max     4.930000   5.424000  22.900000"
      ]
     },
     "execution_count": 33,
     "metadata": {},
     "output_type": "execute_result"
    }
   ],
   "source": [
    "data.describe()"
   ]
  },
  {
   "cell_type": "code",
   "execution_count": 34,
   "id": "cacab16e",
   "metadata": {},
   "outputs": [
    {
     "data": {
      "text/html": [
       "<div>\n",
       "<style scoped>\n",
       "    .dataframe tbody tr th:only-of-type {\n",
       "        vertical-align: middle;\n",
       "    }\n",
       "\n",
       "    .dataframe tbody tr th {\n",
       "        vertical-align: top;\n",
       "    }\n",
       "\n",
       "    .dataframe thead th {\n",
       "        text-align: right;\n",
       "    }\n",
       "</style>\n",
       "<table border=\"1\" class=\"dataframe\">\n",
       "  <thead>\n",
       "    <tr style=\"text-align: right;\">\n",
       "      <th></th>\n",
       "      <th>Unnamed: 0</th>\n",
       "      <th>Points</th>\n",
       "      <th>Score</th>\n",
       "      <th>Weigh</th>\n",
       "    </tr>\n",
       "  </thead>\n",
       "  <tbody>\n",
       "    <tr>\n",
       "      <th>27</th>\n",
       "      <td>Lotus Europa</td>\n",
       "      <td>3.77</td>\n",
       "      <td>1.513</td>\n",
       "      <td>16.9</td>\n",
       "    </tr>\n",
       "    <tr>\n",
       "      <th>28</th>\n",
       "      <td>Ford Pantera L</td>\n",
       "      <td>4.22</td>\n",
       "      <td>3.170</td>\n",
       "      <td>14.5</td>\n",
       "    </tr>\n",
       "    <tr>\n",
       "      <th>29</th>\n",
       "      <td>Ferrari Dino</td>\n",
       "      <td>3.62</td>\n",
       "      <td>2.770</td>\n",
       "      <td>15.5</td>\n",
       "    </tr>\n",
       "    <tr>\n",
       "      <th>30</th>\n",
       "      <td>Maserati Bora</td>\n",
       "      <td>3.54</td>\n",
       "      <td>3.570</td>\n",
       "      <td>14.6</td>\n",
       "    </tr>\n",
       "    <tr>\n",
       "      <th>31</th>\n",
       "      <td>Volvo 142E</td>\n",
       "      <td>4.11</td>\n",
       "      <td>2.780</td>\n",
       "      <td>18.6</td>\n",
       "    </tr>\n",
       "  </tbody>\n",
       "</table>\n",
       "</div>"
      ],
      "text/plain": [
       "        Unnamed: 0  Points  Score  Weigh\n",
       "27    Lotus Europa    3.77  1.513   16.9\n",
       "28  Ford Pantera L    4.22  3.170   14.5\n",
       "29    Ferrari Dino    3.62  2.770   15.5\n",
       "30   Maserati Bora    3.54  3.570   14.6\n",
       "31      Volvo 142E    4.11  2.780   18.6"
      ]
     },
     "execution_count": 34,
     "metadata": {},
     "output_type": "execute_result"
    }
   ],
   "source": [
    "data.tail()"
   ]
  },
  {
   "cell_type": "code",
   "execution_count": 68,
   "id": "2920d894",
   "metadata": {},
   "outputs": [
    {
     "name": "stdout",
     "output_type": "stream",
     "text": [
      "\n",
      "Data_mean\n",
      "Points     3.596563\n",
      "Score      3.217250\n",
      "Weigh     17.848750\n",
      "dtype: float64\n"
     ]
    }
   ],
   "source": [
    "# Calculate Mean \n",
    "\n",
    "data_mean = data[['Points','Score','Weigh']].mean()\n",
    "print(\"\\nData_mean\")\n",
    "print(data_mean)"
   ]
  },
  {
   "cell_type": "code",
   "execution_count": 69,
   "id": "2713fd95",
   "metadata": {
    "scrolled": true
   },
   "outputs": [
    {
     "name": "stdout",
     "output_type": "stream",
     "text": [
      "\n",
      "Data_median:\n",
      "Points     3.695\n",
      "Score      3.325\n",
      "Weigh     17.710\n",
      "dtype: float64\n"
     ]
    }
   ],
   "source": [
    "# Calculate Median \n",
    "\n",
    "data_median = data[['Points','Score','Weigh']].median()\n",
    "print(\"\\nData_median:\")\n",
    "print(data_median)"
   ]
  },
  {
   "cell_type": "code",
   "execution_count": 70,
   "id": "9d690fe5",
   "metadata": {},
   "outputs": [
    {
     "name": "stdout",
     "output_type": "stream",
     "text": [
      "\n",
      "Data_mode:\n",
      "Points     3.07\n",
      "Score      3.44\n",
      "Weigh     17.02\n",
      "Name: 0, dtype: float64\n"
     ]
    }
   ],
   "source": [
    "# Calculate Mode\n",
    "\n",
    "data_mode = data[['Points','Score','Weigh']].mode().iloc[0]\n",
    "print(\"\\nData_mode:\")\n",
    "print(data_mode)"
   ]
  },
  {
   "cell_type": "code",
   "execution_count": 71,
   "id": "d2a6807f",
   "metadata": {},
   "outputs": [
    {
     "name": "stdout",
     "output_type": "stream",
     "text": [
      "\n",
      "Data_var:\n",
      "Points    0.276948\n",
      "Score     0.927461\n",
      "Weigh     3.093380\n",
      "dtype: float64\n"
     ]
    }
   ],
   "source": [
    "# Calculate Variance\n",
    "\n",
    "data_var = np.var(data[['Points','Score','Weigh']])\n",
    "print(\"\\nData_var:\")\n",
    "print(data_var)"
   ]
  },
  {
   "cell_type": "code",
   "execution_count": 72,
   "id": "20ceeaa2",
   "metadata": {},
   "outputs": [
    {
     "name": "stdout",
     "output_type": "stream",
     "text": [
      "\n",
      "Data_std:\n",
      "Points    0.534679\n",
      "Score     0.978457\n",
      "Weigh     1.786943\n",
      "dtype: float64\n"
     ]
    }
   ],
   "source": [
    "# Calculate Standard deviation\n",
    "data_std = data[['Points','Score','Weigh']].std()\n",
    "print(\"\\nData_std:\")\n",
    "print(data_std)"
   ]
  },
  {
   "cell_type": "code",
   "execution_count": 76,
   "id": "68990abf",
   "metadata": {},
   "outputs": [
    {
     "name": "stdout",
     "output_type": "stream",
     "text": [
      "\n",
      "Range values:\n",
      "Points    2.170\n",
      "Score     3.911\n",
      "Weigh     8.400\n",
      "dtype: float64\n"
     ]
    }
   ],
   "source": [
    "# Calculate Range\n",
    "range_values = data[['Points','Score','Weigh']].max()  - data[['Points','Score','Weigh']].min()\n",
    "print(\"\\nRange values:\")\n",
    "print(range_values)"
   ]
  },
  {
   "cell_type": "code",
   "execution_count": 91,
   "id": "b700f4d5",
   "metadata": {
    "scrolled": true
   },
   "outputs": [
    {
     "name": "stdout",
     "output_type": "stream",
     "text": [
      "\n",
      "Comments and Inferences:\n",
      "- Points -\n",
      "The mean value for 'Points' is: 3.5965625\n",
      "The median value for 'Points' is: 3.6950000000000003\n",
      "The mode for 'Points' is: 3.07\n",
      "The variance for 'Points' is: 0.27694755859375003\n",
      "The standard deviation for 'Points' is: 0.5346787360709716\n",
      "The range for 'Points' is: 2.17\n",
      "______________________________________\n",
      "\n",
      "Comments and Inferences:\n",
      "- Score -\n",
      "The mean value for 'Score' is: 3.2172500000000004\n",
      "The median value for 'Score' is: 3.325\n",
      "The mode for 'Score' is: 3.44\n",
      "The variance for 'Score' is: 0.9274608750000002\n",
      "The standard deviation for 'Score' is: 0.9784574429896967\n",
      "The range for 'Score' is: 3.9110000000000005\n",
      "________________________________________\n",
      "\n",
      "Comments and Inferences:\n",
      "- Weigh -\n",
      "The mean value for 'Weigh' is: 17.848750000000003\n",
      "The median value for 'Weigh' is: 17.71\n",
      "The mode for 'Weigh' is: 17.02\n",
      "The variance for 'Weigh' is: 3.0933796874999997\n",
      "The standard deviation for 'Weigh' is: 1.7869432360968431\n",
      "The range for 'Weigh' is: 8.399999999999999\n"
     ]
    }
   ],
   "source": [
    "\n",
    "# Commenting on the values\n",
    "# Making inferences based on the calculated statistics\n",
    "print(\"\\nComments and Inferences:\")\n",
    "print(\"- Points -\")\n",
    "print(\"The mean value for 'Points' is:\", data_mean['Points'])\n",
    "print(\"The median value for 'Points' is:\", data_median['Points'])\n",
    "print(\"The mode for 'Points' is:\", data_mode['Points'])\n",
    "print(\"The variance for 'Points' is:\", data_var['Points'])\n",
    "print(\"The standard deviation for 'Points' is:\", data_std['Points'])\n",
    "print(\"The range for 'Points' is:\", range_values['Points'])\n",
    "print(\"______________________________________\")\n",
    "\n",
    "print(\"\\nComments and Inferences:\")\n",
    "print(\"- Score -\")\n",
    "print(\"The mean value for 'Score' is:\", data_mean['Score'])\n",
    "print(\"The median value for 'Score' is:\", data_median['Score'])\n",
    "print(\"The mode for 'Score' is:\", data_mode['Score'])\n",
    "print(\"The variance for 'Score' is:\", data_var['Score'])\n",
    "print(\"The standard deviation for 'Score' is:\", data_std['Score'])\n",
    "print(\"The range for 'Score' is:\", range_values['Score'])\n",
    "\n",
    "print(\"________________________________________\")\n",
    "\n",
    "print(\"\\nComments and Inferences:\")\n",
    "print(\"- Weigh -\")\n",
    "print(\"The mean value for 'Weigh' is:\", data_mean['Weigh'])\n",
    "print(\"The median value for 'Weigh' is:\", data_median['Weigh'])\n",
    "print(\"The mode for 'Weigh' is:\", data_mode['Weigh'])\n",
    "print(\"The variance for 'Weigh' is:\", data_var['Weigh'])\n",
    "print(\"The standard deviation for 'Weigh' is:\", data_std['Weigh'])\n",
    "print(\"The range for 'Weigh' is:\", range_values['Weigh'])"
   ]
  }
 ],
 "metadata": {
  "kernelspec": {
   "display_name": "Python 3 (ipykernel)",
   "language": "python",
   "name": "python3"
  },
  "language_info": {
   "codemirror_mode": {
    "name": "ipython",
    "version": 3
   },
   "file_extension": ".py",
   "mimetype": "text/x-python",
   "name": "python",
   "nbconvert_exporter": "python",
   "pygments_lexer": "ipython3",
   "version": "3.11.5"
  }
 },
 "nbformat": 4,
 "nbformat_minor": 5
}
