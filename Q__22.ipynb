{
 "cells": [
  {
   "cell_type": "code",
   "execution_count": 3,
   "id": "b16a01d9",
   "metadata": {},
   "outputs": [
    {
     "name": "stdout",
     "output_type": "stream",
     "text": [
      "Z-score for 90% confidence interval:  1.645\n",
      "Z-score for 94% confidence interval:  1.881\n",
      "Z-score for 60% confidence interval:  0.842\n"
     ]
    }
   ],
   "source": [
    "from scipy.stats import norm\n",
    "\n",
    "# For a 90% confidence interval\n",
    "confidence_90= 0.90\n",
    "z_score_90 = norm.ppf((1+confidence_90)/2)  # 2-tailed test\n",
    "print(f\"Z-score for 90% confidence interval: {z_score_90: .3f}\")\n",
    "\n",
    "\n",
    "# For a 94% confidence interval\n",
    "confidence_94 = 0.94\n",
    "z_score_94 = norm.ppf((1+confidence_94)/2)  # 2-tailed test\n",
    "print(f\"Z-score for 94% confidence interval: {z_score_94: .3f}\")\n",
    "\n",
    "\n",
    "# For a 60% confidence interval\n",
    "confidence_60 = 0.60\n",
    "z_score_60 = norm.ppf((1+confidence_60)/2)  # 2-tailed test\n",
    "print(f\"Z-score for 60% confidence interval: {z_score_60: .3f}\")\n"
   ]
  },
  {
   "cell_type": "code",
   "execution_count": null,
   "id": "8d96edcf",
   "metadata": {},
   "outputs": [],
   "source": [
    "# "
   ]
  }
 ],
 "metadata": {
  "kernelspec": {
   "display_name": "Python 3 (ipykernel)",
   "language": "python",
   "name": "python3"
  },
  "language_info": {
   "codemirror_mode": {
    "name": "ipython",
    "version": 3
   },
   "file_extension": ".py",
   "mimetype": "text/x-python",
   "name": "python",
   "nbconvert_exporter": "python",
   "pygments_lexer": "ipython3",
   "version": "3.11.5"
  }
 },
 "nbformat": 4,
 "nbformat_minor": 5
}
