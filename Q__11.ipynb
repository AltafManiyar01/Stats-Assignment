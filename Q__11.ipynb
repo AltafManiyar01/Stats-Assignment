{
 "cells": [
  {
   "cell_type": "markdown",
   "id": "05ddd21e",
   "metadata": {},
   "source": [
    "Q11)  Suppose we want to estimate the average weight of an adult male in    Mexico. We draw a random sample of 2,000 men from a population of 3,000,000 men and weigh them. We find that the average person in our sample weighs 200 pounds, and the standard deviation of the sample is 30 pounds. Calculate 94%,98%,96% confidence interval?"
   ]
  },
  {
   "cell_type": "code",
   "execution_count": 4,
   "id": "b5493aee",
   "metadata": {},
   "outputs": [
    {
     "name": "stdout",
     "output_type": "stream",
     "text": [
      "94.0% confidence interval: (198.73, 201.27) pounds\n",
      "96.0% confidence interval: (198.62, 201.38) pounds\n",
      "98.0% confidence interval: (198.43, 201.57) pounds\n"
     ]
    }
   ],
   "source": [
    "import scipy.stats as stats\n",
    "\n",
    "# Given data\n",
    "sample_mean = 200    # Sample mean (average weight)\n",
    "sample_std = 30  # Sample standard deviation\n",
    "sample_size = 2000 # Sample size\n",
    "population_size = 300000\n",
    "\n",
    "# Population standard deviation estimate (assuming sample is representative of the population)\n",
    "population_std_estimate = sample_std*(population_size**0.5)/ ((population_size-sample_size)**0.5)\n",
    "\n",
    "# Calculate confidence interval for different confidence levels\n",
    "confidence_levels =[0.94,0.96,0.98]\n",
    "\n",
    "for confidence_level in confidence_levels:\n",
    "    # Calculate the critical value(z-score) using the desired confidence level\n",
    "    z= stats.norm.ppf((1+confidence_level)/2)\n",
    "    \n",
    "    # Calculate margin of error\n",
    "    margin_of_error = z*(population_std_estimate/ (sample_size**0.5))\n",
    "    \n",
    "    # Calculate confidence interval\n",
    "    lower_bound = sample_mean-margin_of_error\n",
    "    upper_bound =sample_mean + margin_of_error\n",
    "    \n",
    "    print(f\"{confidence_level *100}% confidence interval: ({lower_bound:.2f}, {upper_bound:.2f}) pounds\")\n",
    "    \n",
    "    "
   ]
  }
 ],
 "metadata": {
  "kernelspec": {
   "display_name": "Python 3 (ipykernel)",
   "language": "python",
   "name": "python3"
  },
  "language_info": {
   "codemirror_mode": {
    "name": "ipython",
    "version": 3
   },
   "file_extension": ".py",
   "mimetype": "text/x-python",
   "name": "python",
   "nbconvert_exporter": "python",
   "pygments_lexer": "ipython3",
   "version": "3.11.5"
  }
 },
 "nbformat": 4,
 "nbformat_minor": 5
}
